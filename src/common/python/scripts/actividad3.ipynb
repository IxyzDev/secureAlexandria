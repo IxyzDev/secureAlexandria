{
 "cells": [
  {
   "cell_type": "markdown",
   "metadata": {},
   "source": [
    "### Actividad 3\n",
    "Utilizar Nmap y realizar un análisis de vulnerabilidades del servidor denominado ingenieriaoceanica.uv.cl, revise losproblemas y de acuerdo con estos últimos y a la función que cumple el servidor, proponga mitigaciones a nivel deservidor y de firewall con reglas que Ud considere adecuadas."
   ]
  },
  {
   "cell_type": "code",
   "execution_count": 1,
   "metadata": {},
   "outputs": [
    {
     "name": "stdout",
     "output_type": "stream",
     "text": [
      "Salida para -sS: Starting Nmap 7.95 ( https://nmap.org ) at 2024-05-07 20:04 Hora est. Sudamérica Pacífico\n",
      "Nmap scan report for ingenieriaoceanica.uv.cl (200.14.249.49)\n",
      "Host is up (0.024s latency).\n",
      "Not shown: 993 filtered tcp ports (no-response)\n",
      "PORT     STATE  SERVICE  VERSION\n",
      "22/tcp   open   ssh      OpenSSH 7.5 (FreeBSD 20170903; protocol 2.0)\n",
      "80/tcp   open   http     Apache httpd\n",
      "113/tcp  closed ident\n",
      "443/tcp  open   ssl/http Apache httpd\n",
      "1433/tcp closed ms-sql-s\n",
      "1434/tcp closed ms-sql-m\n",
      "3306/tcp open   mysql    MySQL (unauthorized)\n",
      "Device type: general purpose\n",
      "Running (JUST GUESSING): FreeBSD 12.X|13.X|11.X (94%), Apple macOS 11.X (88%)\n",
      "OS CPE: cpe:/o:freebsd:freebsd:12 cpe:/o:freebsd:freebsd:13.1 cpe:/o:apple:mac_os_x:11 cpe:/o:freebsd:freebsd:11.0\n",
      "Aggressive OS guesses: FreeBSD 12.1-RELEASE - 12.2-RELEASE (94%), FreeBSD 13.1-RELEASE (90%), Apple macOS 11 (Big Sur) (Darwin 20.6.0) (88%), FreeBSD 12.1-STABLE (87%), FreeBSD 11.0-STABLE or 11.0-RELEASE (86%), FreeBSD 13.0-RELEASE (85%), FreeBSD 11.0-RELEASE (85%), FreeBSD 13.0-STABLE (85%)\n",
      "No exact OS matches for host (test conditions non-ideal).\n",
      "Service Info: OS: FreeBSD; CPE: cpe:/o:freebsd:freebsd\n",
      "\n",
      "OS and Service detection performed. Please report any incorrect results at https://nmap.org/submit/ .\n",
      "Nmap done: 1 IP address (1 host up) scanned in 23.11 seconds\n",
      "\n",
      "Salida para -sA: Starting Nmap 7.95 ( https://nmap.org ) at 2024-05-07 20:05 Hora est. Sudamérica Pacífico\n",
      "Nmap scan report for ingenieriaoceanica.uv.cl (200.14.249.49)\n",
      "Host is up (0.060s latency).\n",
      "All 1000 scanned ports on ingenieriaoceanica.uv.cl (200.14.249.49) are in ignored states.\n",
      "Not shown: 1000 filtered tcp ports (no-response)\n",
      "Too many fingerprints match this host to give specific OS details\n",
      "\n",
      "OS and Service detection performed. Please report any incorrect results at https://nmap.org/submit/ .\n",
      "Nmap done: 1 IP address (1 host up) scanned in 15.72 seconds\n",
      "\n"
     ]
    }
   ],
   "source": [
    "import subprocess\n",
    "import os\n",
    "from datetime import datetime\n",
    "\n",
    "# Definir las variables para el comando nmap\n",
    "ip_address = \"ingenieriaoceanica.uv.cl\" # IP de la máquina a escanear\n",
    "scan_types = [\"-sS\", \"-sA\"]\n",
    "# -sS para detectar los puertos abiertos (EScaneo SYN)\n",
    "# -sA para detectar los puertos filtrados (es decir puertos cerrados con un firewall) (Escaneo ACK)\n",
    "# -sX ataque de XMAS scan (engañar al firewall, para obtener datos de los puertos cerrados) \n",
    "# -Pn para realizar escaneos sin ping (donde se tiene un firewall que bloquea los pings)\n",
    "# -sN para confirmar si el host está cerrado (responde con RST)\n",
    "scan_service = \"-sV\" # -sV para detectar los servicios\n",
    "scan_os = \"-O\" # -O para detectar el sistema operativo\n",
    "\n",
    "# Puerto 22: Utilizado para conexiones seguras SSH para administración remota.\n",
    "# Puerto 80: Estándar para tráfico web HTTP no cifrado.\n",
    "# Puerto 443: Usado para tráfico web HTTPS cifrado.\n",
    "# Puerto 444: Comúnmente utilizado para servicios personalizados; no asignado oficialmente.\n",
    "# Puerto 445: Empleado para compartir archivos y impresoras en redes Windows (SMB).\n",
    "# Puerto 53: Maneja consultas DNS para la resolución de nombres de dominio a direcciones IP.\n",
    "# output_format = \"-oX tmp/nmap_output3.xml --append-output\" \n",
    "\n",
    "# Crear la carpeta para almacenar los resultados si no existe\n",
    "folder_name = \"nmap_results\"\n",
    "os.makedirs(folder_name, exist_ok=True)\n",
    "\n",
    "# Función para formatear el nombre del archivo basado en el tipo de escaneo y la fecha actual\n",
    "def get_output_filename(scan_type):\n",
    "    date_str = datetime.now().strftime(\"%Y-%m-%d_%H-%M-%S\")\n",
    "    return os.path.join(folder_name, f\"nmap_output_{scan_type.strip('-')}_{date_str}.txt\")\n",
    "\n",
    "# Ejecutar los escaneos y guardar cada resultado en un archivo separado\n",
    "for scan_type in scan_types:\n",
    "    output_file = get_output_filename(scan_type)\n",
    "    command = f\"nmap {scan_type} {ip_address}  -sV -O -oN {output_file}\"\n",
    "    result = subprocess.run(command, shell=True, stdout=subprocess.PIPE, stderr=subprocess.PIPE, text=True)\n",
    "    \n",
    "    # Imprimir la salida y los errores (opcionalmente, se puede eliminar si solo se desea guardar en archivo)\n",
    "    print(f\"Salida para {scan_type}: {result.stdout}\")\n",
    "    if result.stderr:\n",
    "        print(f\"Error para {scan_type}: {result.stderr}\")"
   ]
  }
 ],
 "metadata": {
  "kernelspec": {
   "display_name": "venv",
   "language": "python",
   "name": "python3"
  },
  "language_info": {
   "codemirror_mode": {
    "name": "ipython",
    "version": 3
   },
   "file_extension": ".py",
   "mimetype": "text/x-python",
   "name": "python",
   "nbconvert_exporter": "python",
   "pygments_lexer": "ipython3",
   "version": "3.12.1"
  }
 },
 "nbformat": 4,
 "nbformat_minor": 2
}
